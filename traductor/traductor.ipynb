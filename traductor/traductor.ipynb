{
 "cells": [
  {
   "cell_type": "code",
   "execution_count": 5,
   "metadata": {},
   "outputs": [],
   "source": [
    "import csv\n",
    "from googletrans import Translator"
   ]
  },
  {
   "cell_type": "code",
   "execution_count": 6,
   "metadata": {},
   "outputs": [
    {
     "ename": "UnicodeEncodeError",
     "evalue": "'charmap' codec can't encode character '\\u039b' in position 0: character maps to <undefined>",
     "output_type": "error",
     "traceback": [
      "\u001b[1;31m---------------------------------------------------------------------------\u001b[0m",
      "\u001b[1;31mUnicodeEncodeError\u001b[0m                        Traceback (most recent call last)",
      "Cell \u001b[1;32mIn[6], line 20\u001b[0m\n\u001b[0;32m     18\u001b[0m             translated_word \u001b[39m=\u001b[39m translate_text(row[\u001b[39m0\u001b[39m], lang)\n\u001b[0;32m     19\u001b[0m             translated_row\u001b[39m.\u001b[39mappend(translated_word)\n\u001b[1;32m---> 20\u001b[0m         writer\u001b[39m.\u001b[39;49mwriterow(translated_row)\n\u001b[0;32m     22\u001b[0m \u001b[39mprint\u001b[39m(\u001b[39m\"\u001b[39m\u001b[39mTraducción completa. Los resultados se han guardado en \u001b[39m\u001b[39m'\u001b[39m\u001b[39mtraduccion_final.csv\u001b[39m\u001b[39m'\u001b[39m\u001b[39m.\u001b[39m\u001b[39m\"\u001b[39m)\n",
      "File \u001b[1;32mC:\\Program Files\\WindowsApps\\PythonSoftwareFoundation.Python.3.11_3.11.1008.0_x64__qbz5n2kfra8p0\\Lib\\encodings\\cp1252.py:19\u001b[0m, in \u001b[0;36mIncrementalEncoder.encode\u001b[1;34m(self, input, final)\u001b[0m\n\u001b[0;32m     18\u001b[0m \u001b[39mdef\u001b[39;00m \u001b[39mencode\u001b[39m(\u001b[39mself\u001b[39m, \u001b[39minput\u001b[39m, final\u001b[39m=\u001b[39m\u001b[39mFalse\u001b[39;00m):\n\u001b[1;32m---> 19\u001b[0m     \u001b[39mreturn\u001b[39;00m codecs\u001b[39m.\u001b[39mcharmap_encode(\u001b[39minput\u001b[39m,\u001b[39mself\u001b[39m\u001b[39m.\u001b[39merrors,encoding_table)[\u001b[39m0\u001b[39m]\n",
      "\u001b[1;31mUnicodeEncodeError\u001b[0m: 'charmap' codec can't encode character '\\u039b' in position 0: character maps to <undefined>"
     ]
    }
   ],
   "source": [
    "translator = Translator()\n",
    "\n",
    "def translate_text(text, dest_lang):\n",
    "    translation = translator.translate(text, dest=dest_lang)\n",
    "    return translation.text\n",
    "\n",
    "input_file = 'icd_a_traducir.csv'\n",
    "output_file = 'traduccion_final.csv'\n",
    "dest_languages = ['es', 'pt']  # español, portugués\n",
    "\n",
    "with open(input_file, 'r') as csv_file, open(output_file, 'w', newline='') as output_csv:\n",
    "    reader = csv.reader(csv_file)\n",
    "    writer = csv.writer(output_csv)\n",
    "\n",
    "    for row in reader:\n",
    "        translated_row = []\n",
    "        for lang in dest_languages:\n",
    "            translated_word = translate_text(row[0], lang)\n",
    "            translated_row.append(translated_word)\n",
    "        writer.writerow(translated_row)\n",
    "\n",
    "print(\"Traducción completa. Los resultados se han guardado en 'traduccion_final.csv'.\")"
   ]
  }
 ],
 "metadata": {
  "kernelspec": {
   "display_name": "Python 3",
   "language": "python",
   "name": "python3"
  },
  "language_info": {
   "codemirror_mode": {
    "name": "ipython",
    "version": 3
   },
   "file_extension": ".py",
   "mimetype": "text/x-python",
   "name": "python",
   "nbconvert_exporter": "python",
   "pygments_lexer": "ipython3",
   "version": "3.11.3"
  },
  "orig_nbformat": 4
 },
 "nbformat": 4,
 "nbformat_minor": 2
}
